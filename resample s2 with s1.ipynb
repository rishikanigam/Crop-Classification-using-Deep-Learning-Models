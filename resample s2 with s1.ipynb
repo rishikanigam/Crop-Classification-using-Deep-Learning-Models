{
 "cells": [
  {
   "cell_type": "code",
   "execution_count": 5,
   "id": "13097909-a9ae-4097-9ed1-06817ca24b3b",
   "metadata": {},
   "outputs": [],
   "source": [
    "import rasterio\n",
    "from rasterio.warp import calculate_default_transform, reproject, Resampling\n",
    "import numpy as np\n",
    "\n",
    "def reshape_sentinel2_to_sentinel1(sentinel1_path, sentinel2_path, output_path):\n",
    "    # Open Sentinel-1 image to get its profile and transform\n",
    "    with rasterio.open(sentinel1_path) as sentinel1:\n",
    "        sentinel1_profile = sentinel1.profile\n",
    "        sentinel1_transform = sentinel1.transform\n",
    "\n",
    "    # Open Sentinel-2 image to get its data\n",
    "    with rasterio.open(sentinel2_path) as sentinel2:\n",
    "        sentinel2_profile = sentinel2.profile\n",
    "        sentinel2_data = sentinel2.read()\n",
    "\n",
    "    # Calculate the transform and dimensions for the output image\n",
    "    transform, width, height = calculate_default_transform(\n",
    "        sentinel2.crs, sentinel1.crs, sentinel1.width, sentinel1.height, *sentinel1.bounds)\n",
    "    \n",
    "    # Update the profile for Sentinel-2 to match Sentinel-1\n",
    "    sentinel2_profile.update({\n",
    "        'crs': sentinel1.crs,\n",
    "        'transform': sentinel1_transform,\n",
    "        'width': sentinel1.width,\n",
    "        'height': sentinel1.height\n",
    "    })\n",
    "    \n",
    "    # Create an empty array to store resampled data\n",
    "    resampled_data = np.empty(shape=(sentinel2_data.shape[0], height, width), dtype=sentinel2_data.dtype)\n",
    "    \n",
    "    # Resample each band\n",
    "    for i in range(sentinel2_data.shape[0]):\n",
    "        reproject(\n",
    "            source=sentinel2_data[i],\n",
    "            destination=resampled_data[i],\n",
    "            src_transform=sentinel2.transform,\n",
    "            src_crs=sentinel2.crs,\n",
    "            dst_transform=sentinel1_transform,\n",
    "            dst_crs=sentinel1.crs,\n",
    "            resampling=Resampling.nearest\n",
    "        )\n",
    "    \n",
    "    # Save the resampled Sentinel-2 image\n",
    "    with rasterio.open(output_path, 'w', **sentinel2_profile) as dst:\n",
    "        dst.write(resampled_data)\n",
    "\n",
    "# Example usage\n",
    "sentinel1_path = r\"C:\\Users\\rishi\\OneDrive\\Desktop\\sentinel_1\\resampled_S1A_IW_SLC__1SDV_20230101T005408_geo_10m.tif\"\n",
    "sentinel2_path = r\"C:\\Users\\rishi\\OneDrive\\Desktop\\sentinel_2\\subset_0_of_S2A_MSIL2A_20230310T052641_N0509_R105_T43QEE_20230310T091359_resampled.tif\"\n",
    "output_path = r\"C:\\Users\\rishi\\OneDrive\\Desktop\\sentinel_2\\resampled_subset_0_of_S2A_MSIL2A_20230310T052641_N0509_R105_T43QEE_20230310T091359_resampled.tif\"\n",
    "\n",
    "reshape_sentinel2_to_sentinel1(sentinel1_path, sentinel2_path, output_path)\n"
   ]
  },
  {
   "cell_type": "code",
   "execution_count": null,
   "id": "bbb726e3-0f4c-4b01-a338-6d3ac643c30e",
   "metadata": {},
   "outputs": [],
   "source": []
  }
 ],
 "metadata": {
  "kernelspec": {
   "display_name": "Python 3 (ipykernel)",
   "language": "python",
   "name": "python3"
  },
  "language_info": {
   "codemirror_mode": {
    "name": "ipython",
    "version": 3
   },
   "file_extension": ".py",
   "mimetype": "text/x-python",
   "name": "python",
   "nbconvert_exporter": "python",
   "pygments_lexer": "ipython3",
   "version": "3.11.7"
  }
 },
 "nbformat": 4,
 "nbformat_minor": 5
}
