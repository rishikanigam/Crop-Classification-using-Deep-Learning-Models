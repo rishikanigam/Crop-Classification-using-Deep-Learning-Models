{
 "cells": [
  {
   "cell_type": "code",
   "execution_count": 4,
   "id": "99d78620-d628-4643-9af5-cc6cf54524ed",
   "metadata": {},
   "outputs": [
    {
     "name": "stdout",
     "output_type": "stream",
     "text": [
      "Resampling complete.\n"
     ]
    }
   ],
   "source": [
    "import rasterio\n",
    "from rasterio.warp import calculate_default_transform, reproject, Resampling\n",
    "\n",
    "def resample_raster(src_path, dst_path, reference_raster):\n",
    "    with rasterio.open(src_path) as src:\n",
    "        with rasterio.open(reference_raster) as ref:\n",
    "            # Define target CRS and dimensions based on the reference raster\n",
    "            dst_crs = ref.crs\n",
    "            dst_transform, dst_width, dst_height = calculate_default_transform(\n",
    "                src.crs, dst_crs, src.width, src.height, *src.bounds)\n",
    "            \n",
    "            # Prepare kwargs for the output raster\n",
    "            kwargs = src.meta.copy()\n",
    "            kwargs.update({\n",
    "                'crs': dst_crs,\n",
    "                'transform': dst_transform,\n",
    "                'width': dst_width,\n",
    "                'height': dst_height\n",
    "            })\n",
    "\n",
    "            # Perform the reprojection and resampling\n",
    "            with rasterio.open(dst_path, 'w', **kwargs) as dst:\n",
    "                for i in range(1, src.count + 1):\n",
    "                    reproject(\n",
    "                        source=rasterio.band(src, i),\n",
    "                        destination=rasterio.band(dst, i),\n",
    "                        src_transform=src.transform,\n",
    "                        src_crs=src.crs,\n",
    "                        dst_transform=dst_transform,\n",
    "                        dst_crs=dst_crs,\n",
    "                        resampling=Resampling.bilinear\n",
    "                    )\n",
    "\n",
    "# Paths to your Sentinel-1 and Sentinel-2 images\n",
    "sentinel1_path = r\"C:\\Users\\rishi\\OneDrive\\Desktop\\sentinel_1\\S1A_IW_SLC__1SDV_20230314T005406_geo_10m.tif\"\n",
    "sentinel2_path = r\"C:\\Users\\rishi\\OneDrive\\Desktop\\sentinel_2\\reshaped_1calibrated_subset_0_of_S2B_MSIL2A_20230104T053219_N0509_R105_T43QEE_20230104T070636_resampled.tif\"\n",
    "\n",
    "# Output paths for resampled images\n",
    "sentinel1_resampled_path = r\"C:\\Users\\rishi\\OneDrive\\Desktop\\sentinel_1\\resampled_S1A_IW_SLC__1SDV_20230314T005406_geo_10m.tif\"\n",
    "\n",
    "# Resample Sentinel-1 to match Sentinel-2\n",
    "resample_raster(sentinel1_path, sentinel1_resampled_path, sentinel2_path)\n",
    "\n",
    "print(\"Resampling complete.\")\n"
   ]
  },
  {
   "cell_type": "code",
   "execution_count": 4,
   "id": "661fe8e1-127c-4ce3-98bb-f60fea228205",
   "metadata": {},
   "outputs": [
    {
     "name": "stdout",
     "output_type": "stream",
     "text": [
      "Co-registration complete.\n"
     ]
    }
   ],
   "source": [
    "import rasterio\n",
    "from rasterio.enums import Resampling\n",
    "from rasterio.warp import calculate_default_transform, reproject, transform_bounds\n",
    "import numpy as np\n",
    "\n",
    "def co_register_images(src_path, dst_path, reference_raster_path):\n",
    "    with rasterio.open(reference_raster_path) as ref:\n",
    "        ref_crs = ref.crs\n",
    "        ref_transform = ref.transform\n",
    "        ref_width = ref.width\n",
    "        ref_height = ref.height\n",
    "        \n",
    "        with rasterio.open(src_path) as src:\n",
    "            src_crs = src.crs\n",
    "            src_transform = src.transform\n",
    "            \n",
    "            # Calculate the bounds of the source image in the reference CRS\n",
    "            src_bounds = transform_bounds(src_crs, ref_crs, *src.bounds)\n",
    "            \n",
    "            # Calculate the transform and dimensions of the destination raster\n",
    "            dst_transform, dst_width, dst_height = calculate_default_transform(\n",
    "                src.crs, ref.crs, ref_width, ref_height, *src_bounds, resolution=(ref_transform[0], -ref_transform[4]))\n",
    "            \n",
    "            # Update metadata for the destination raster\n",
    "            dst_meta = src.meta.copy()\n",
    "            dst_meta.update({\n",
    "                'crs': ref_crs,\n",
    "                'transform': dst_transform,\n",
    "                'width': dst_width,\n",
    "                'height': dst_height\n",
    "            })\n",
    "            \n",
    "            # Perform the resampling and reprojection\n",
    "            with rasterio.open(dst_path, 'w', **dst_meta) as dst:\n",
    "                for i in range(1, src.count + 1):\n",
    "                    reproject(\n",
    "                        source=rasterio.band(src, i),\n",
    "                        destination=rasterio.band(dst, i),\n",
    "                        src_transform=src.transform,\n",
    "                        src_crs=src.crs,\n",
    "                        dst_transform=dst_transform,\n",
    "                        dst_crs=ref.crs,\n",
    "                        resampling=Resampling.bilinear\n",
    "                    )\n",
    "\n",
    "# Paths to your Sentinel-1 and Sentinel-2 images\n",
    "sentinel1_path = r\"C:\\Users\\rishi\\OneDrive\\Desktop\\sentinel_1\\resampled_S1A_IW_SLC__1SDV_20230101T005408_geo_10m.tif\"\n",
    "sentinel2_path = r\"C:\\Users\\rishi\\OneDrive\\Desktop\\sentinel_2\\resampled_subset_0_of_S2A_MSIL2A_20230310T052641_N0509_R105_T43QEE_20230310T091359_resampled.tif\"\n",
    "\n",
    "# Output path for the co-registered Sentinel-2 image\n",
    "sentinel2_coregistered_path = r\"C:\\Users\\rishi\\OneDrive\\Desktop\\sentinel_2\\coregistered_subset_0_of_S2A_MSIL2A_20230310T052641_N0509_R105_T43QEE_20230310T091359_resampled.tif\"\n",
    "# Co-register Sentinel-2 to match Sentinel-1\n",
    "co_register_images(sentinel2_path, sentinel2_coregistered_path, sentinel1_path)\n",
    "\n",
    "print(\"Co-registration complete.\")\n"
   ]
  },
  {
   "cell_type": "code",
   "execution_count": null,
   "id": "6df7f8e8-79c9-4a6b-9cec-a9d6811ebb9f",
   "metadata": {},
   "outputs": [],
   "source": []
  }
 ],
 "metadata": {
  "kernelspec": {
   "display_name": "Python 3 (ipykernel)",
   "language": "python",
   "name": "python3"
  },
  "language_info": {
   "codemirror_mode": {
    "name": "ipython",
    "version": 3
   },
   "file_extension": ".py",
   "mimetype": "text/x-python",
   "name": "python",
   "nbconvert_exporter": "python",
   "pygments_lexer": "ipython3",
   "version": "3.11.7"
  }
 },
 "nbformat": 4,
 "nbformat_minor": 5
}
