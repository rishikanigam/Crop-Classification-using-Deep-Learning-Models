{
 "cells": [
  {
   "cell_type": "code",
   "execution_count": 3,
   "id": "1b941f62-9765-407d-82d3-5ed8698a6fce",
   "metadata": {},
   "outputs": [],
   "source": [
    "from rasterio.warp import reproject, Resampling, calculate_default_transform\n",
    "import rasterio\n",
    "def reproj_match(infile, match, outfile):\n",
    "    with rasterio.open(infile) as src:\n",
    "        src_transform = src.transform\n",
    "        \n",
    "        with rasterio.open(match) as match:\n",
    "            dst_crs = match.crs\n",
    "            \n",
    "            dst_transform, dst_width, dst_height = calculate_default_transform(\n",
    "                src.crs,    \n",
    "                dst_crs,    \n",
    "                match.width,   \n",
    "                match.height,  \n",
    "                *match.bounds,\n",
    "            )\n",
    "\n",
    "        dst_kwargs = src.meta.copy()\n",
    "        dst_kwargs.update({\"crs\": dst_crs,\n",
    "                           \"transform\": dst_transform,\n",
    "                           \"width\": dst_width,\n",
    "                           \"height\": dst_height,\n",
    "                           \"nodata\": 0})\n",
    "        print(\"Coregistered to shape:\", dst_height,dst_width,'\\n Affine',dst_transform)\n",
    "        with rasterio.open(outfile, \"w\", **dst_kwargs) as dst:\n",
    "            for i in range(1, src.count + 1):\n",
    "                reproject(\n",
    "                    source=rasterio.band(src, i),\n",
    "                    destination=rasterio.band(dst, i),\n",
    "                    src_transform=src.transform,\n",
    "                    src_crs=src.crs,\n",
    "                    dst_transform=dst_transform,\n",
    "                    dst_crs=dst_crs,\n",
    "                    resampling=Resampling.nearest)"
   ]
  },
  {
   "cell_type": "code",
   "execution_count": 2,
   "id": "6533491d-15e1-4ee3-9e67-14ae2da89443",
   "metadata": {},
   "outputs": [
    {
     "name": "stdout",
     "output_type": "stream",
     "text": [
      "Coregistered to shape: 428 1011 \n",
      " Affine | 3.00, 0.00, 590700.00|\n",
      "| 0.00,-3.00, 2492079.00|\n",
      "| 0.00, 0.00, 1.00|\n"
     ]
    }
   ],
   "source": [
    "LS = r\"C:\\Users\\rishi\\OneDrive\\Desktop\\Rishika_data\\resampled_sentinel_1.tif\"\n",
    "precip = r\"C:\\Users\\rishi\\OneDrive\\Desktop\\Rishika_data\\20230930_mhowroad_planet_data.tif\"\n",
    "\n",
    "reproj_match(infile = LS, \n",
    "             match= precip,\n",
    "             outfile = r\"C:\\Users\\rishi\\OneDrive\\Desktop\\Rishika_data\\co registered_sentinel_1.tif\")"
   ]
  },
  {
   "cell_type": "code",
   "execution_count": null,
   "id": "2c8b6cc0-d57a-486a-aace-925b02adfc1a",
   "metadata": {},
   "outputs": [],
   "source": []
  }
 ],
 "metadata": {
  "kernelspec": {
   "display_name": "Python 3 (ipykernel)",
   "language": "python",
   "name": "python3"
  },
  "language_info": {
   "codemirror_mode": {
    "name": "ipython",
    "version": 3
   },
   "file_extension": ".py",
   "mimetype": "text/x-python",
   "name": "python",
   "nbconvert_exporter": "python",
   "pygments_lexer": "ipython3",
   "version": "3.11.7"
  }
 },
 "nbformat": 4,
 "nbformat_minor": 5
}
